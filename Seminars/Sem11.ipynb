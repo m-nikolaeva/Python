{
 "cells": [
  {
   "cell_type": "markdown",
   "id": "929acc73",
   "metadata": {},
   "source": [
    "Дана функция f(x) = 5x^2 + 10x - 30\n",
    "\n",
    "1. Определить корни\n",
    "\n",
    "2. Найти интервалы, на которых функция возрастает\n",
    "\n",
    "3. Найти интервалы, на которых функция убывает\n",
    "\n",
    "4. Построить график\n",
    "\n",
    "5. Вычислить вершину\n",
    "\n",
    "6. Определить промежутки, на котором f > 0\n",
    "\n",
    "7. Определить промежутки, на котором f < 0"
   ]
  },
  {
   "cell_type": "code",
   "execution_count": 19,
   "id": "79162102",
   "metadata": {},
   "outputs": [],
   "source": [
    "import sympy\n",
    "import matplotlib.pyplot as plt\n",
    "import numpy as np"
   ]
  },
  {
   "cell_type": "code",
   "execution_count": 2,
   "id": "2da5ac04",
   "metadata": {},
   "outputs": [],
   "source": [
    "x = sympy.symbols('x')"
   ]
  },
  {
   "cell_type": "code",
   "execution_count": 3,
   "id": "d7e38158",
   "metadata": {},
   "outputs": [],
   "source": [
    "f = 5 * x ** 2 + 10 * x - 30"
   ]
  },
  {
   "cell_type": "code",
   "execution_count": 4,
   "id": "d2c5e3d5",
   "metadata": {},
   "outputs": [],
   "source": [
    "ans = sympy.solve(f)"
   ]
  },
  {
   "cell_type": "code",
   "execution_count": 5,
   "id": "761a5dcd",
   "metadata": {},
   "outputs": [
    {
     "data": {
      "text/plain": [
       "[-1 + sqrt(7), -sqrt(7) - 1]"
      ]
     },
     "execution_count": 5,
     "metadata": {},
     "output_type": "execute_result"
    }
   ],
   "source": [
    "ans"
   ]
  },
  {
   "cell_type": "code",
   "execution_count": 6,
   "id": "d8e16f2d",
   "metadata": {},
   "outputs": [
    {
     "data": {
      "text/latex": [
       "$\\displaystyle 1.65$"
      ],
      "text/plain": [
       "1.65"
      ]
     },
     "execution_count": 6,
     "metadata": {},
     "output_type": "execute_result"
    }
   ],
   "source": [
    "round(-1 + sympy.sqrt(7), 2)"
   ]
  },
  {
   "cell_type": "code",
   "execution_count": 7,
   "id": "a43aff41",
   "metadata": {},
   "outputs": [
    {
     "data": {
      "text/latex": [
       "$\\displaystyle -3.65$"
      ],
      "text/plain": [
       "-3.65"
      ]
     },
     "execution_count": 7,
     "metadata": {},
     "output_type": "execute_result"
    }
   ],
   "source": [
    "round(-1 - sympy.sqrt(7), 2)"
   ]
  },
  {
   "cell_type": "code",
   "execution_count": 10,
   "id": "0fa51048",
   "metadata": {},
   "outputs": [
    {
     "data": {
      "text/latex": [
       "$\\displaystyle 0$"
      ],
      "text/plain": [
       "0"
      ]
     },
     "execution_count": 10,
     "metadata": {},
     "output_type": "execute_result"
    }
   ],
   "source": [
    "x1 = -1 + sympy.sqrt(7)\n",
    "f1 = 5 * x1 ** 2 + 10 * x1 - 30\n",
    "round(f1)"
   ]
  },
  {
   "cell_type": "markdown",
   "id": "48f6ee8e",
   "metadata": {},
   "source": [
    "Корни уравнения: [-1 + sqrt(7), -sqrt(7) - 1]"
   ]
  },
  {
   "cell_type": "code",
   "execution_count": 13,
   "id": "be85d286",
   "metadata": {},
   "outputs": [],
   "source": [
    "f, ff = sympy.symbols('f ff')\n",
    "f = 5 * x ** 2 + 10 * x - 30"
   ]
  },
  {
   "cell_type": "code",
   "execution_count": 14,
   "id": "730b1365",
   "metadata": {},
   "outputs": [
    {
     "data": {
      "text/latex": [
       "$\\displaystyle 10 x + 10$"
      ],
      "text/plain": [
       "10*x + 10"
      ]
     },
     "execution_count": 14,
     "metadata": {},
     "output_type": "execute_result"
    }
   ],
   "source": [
    "ff = sympy.diff(f)\n",
    "ff"
   ]
  },
  {
   "cell_type": "code",
   "execution_count": 15,
   "id": "51288e4f",
   "metadata": {},
   "outputs": [
    {
     "data": {
      "text/plain": [
       "[-1]"
      ]
     },
     "execution_count": 15,
     "metadata": {},
     "output_type": "execute_result"
    }
   ],
   "source": [
    "ans = sympy.solve(ff)\n",
    "ans"
   ]
  },
  {
   "cell_type": "markdown",
   "id": "a7ec88fa",
   "metadata": {},
   "source": [
    "Вершина параболы (минимум): x = -1"
   ]
  },
  {
   "cell_type": "code",
   "execution_count": 16,
   "id": "5351871f",
   "metadata": {},
   "outputs": [
    {
     "data": {
      "text/plain": [
       "-90"
      ]
     },
     "execution_count": 16,
     "metadata": {},
     "output_type": "execute_result"
    }
   ],
   "source": [
    "10 * (-10) + 10"
   ]
  },
  {
   "cell_type": "code",
   "execution_count": 17,
   "id": "d6d48a3e",
   "metadata": {},
   "outputs": [
    {
     "data": {
      "text/plain": [
       "110"
      ]
     },
     "execution_count": 17,
     "metadata": {},
     "output_type": "execute_result"
    }
   ],
   "source": [
    "10 * 10 + 10"
   ]
  },
  {
   "cell_type": "markdown",
   "id": "5c3eb647",
   "metadata": {},
   "source": [
    "При x < -1, производная меньше 0 => функция f убывает.\n",
    "\n",
    "При x > -1, производная больше 0 => функция f возрастает. "
   ]
  },
  {
   "cell_type": "code",
   "execution_count": 21,
   "id": "e066a949",
   "metadata": {},
   "outputs": [
    {
     "data": {
      "text/plain": [
       "array([-20.   , -19.999, -19.998, ...,  19.998,  19.999,  20.   ])"
      ]
     },
     "execution_count": 21,
     "metadata": {},
     "output_type": "execute_result"
    }
   ],
   "source": [
    "x = np.arange(-20, 20.0001, 0.001)\n",
    "x"
   ]
  },
  {
   "cell_type": "code",
   "execution_count": 22,
   "id": "17dca6a3",
   "metadata": {},
   "outputs": [],
   "source": [
    "f = 5 * x ** 2 + 10 * x - 30"
   ]
  },
  {
   "cell_type": "code",
   "execution_count": 24,
   "id": "48a714f0",
   "metadata": {},
   "outputs": [
    {
     "data": {
      "image/png": "[encoded data removed]",
      "text/plain": [
       "<Figure size 640x480 with 1 Axes>"
      ]
     },
     "metadata": {},
     "output_type": "display_data"
    }
   ],
   "source": [
    "plt.plot(x, f)\n",
    "f2 = 0 * x\n",
    "plt.plot(x, f2)\n",
    "plt.show()"
   ]
  },
  {
   "cell_type": "markdown",
   "id": "e58e409b",
   "metadata": {},
   "source": [
    "При (-1 + sqrt(7)) < x < (-sqrt(7) - 1) функция f > 0.\n",
    "\n",
    "При (-sqrt(7) - 1) < x < (-1 + sqrt(7)) функция f < 0."
   ]
  },
  {
   "cell_type": "code",
   "execution_count": 25,
   "id": "6cadbd7e",
   "metadata": {},
   "outputs": [
    {
     "data": {
      "image/png": "[encoded data removed]",
      "text/plain": [
       "<Figure size 640x480 with 1 Axes>"
      ]
     },
     "metadata": {},
     "output_type": "display_data"
    }
   ],
   "source": [
    "ff = 10 * x + 10\n",
    "plt.plot(x, ff)\n",
    "plt.plot(x, f2)\n",
    "plt.show()"
   ]
  },
  {
   "cell_type": "code",
   "execution_count": null,
   "id": "3e2d9e98",
   "metadata": {},
   "outputs": [],
   "source": []
  }
 ],
 "metadata": {
  "kernelspec": {
   "display_name": "Python 3.10.7 64-bit",
   "language": "python",
   "name": "python3"
  },
  "language_info": {
   "codemirror_mode": {
    "name": "ipython",
    "version": 3
   },
   "file_extension": ".py",
   "mimetype": "text/x-python",
   "name": "python",
   "nbconvert_exporter": "python",
   "pygments_lexer": "ipython3",
   "version": "3.10.7"
  },
  "vscode": {
   "interpreter": {
    "hash": "aee8b7b246df8f9039afb4144a1f6fd8d2ca17a180786b69acc140d282b71a49"
   }
  }
 },
 "nbformat": 4,
 "nbformat_minor": 5
}
